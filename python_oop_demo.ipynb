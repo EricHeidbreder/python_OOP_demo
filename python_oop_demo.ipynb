{
 "cells": [
  {
   "cell_type": "markdown",
   "metadata": {},
   "source": [
    "# And I OOP: Python Classes\n",
    "\n",
    "Object Oriented Programming (OOP) is something we touched on in DSI very very briefly. This notebook will give you a quick overview on how to create a class and why you might want to use classes instead of a bunch of functions."
   ]
  },
  {
   "cell_type": "markdown",
   "metadata": {},
   "source": [
    "## 1. Creating a new class\n",
    "This isn't difficult, classes are created in the same way that functions are, except we substitute `def` for `class`"
   ]
  },
  {
   "cell_type": "code",
   "execution_count": 1,
   "metadata": {},
   "outputs": [],
   "source": [
    "class Baby:\n",
    "    pass"
   ]
  },
  {
   "cell_type": "markdown",
   "metadata": {},
   "source": [
    "Now that we have this class, we have to instantiate it before we can use it. This gives birth to a new version of the class, which isn't related to any other instances of the class."
   ]
  },
  {
   "cell_type": "code",
   "execution_count": 2,
   "metadata": {},
   "outputs": [],
   "source": [
    "first_baby = Baby()\n",
    "second_baby = Baby()"
   ]
  },
  {
   "cell_type": "markdown",
   "metadata": {},
   "source": [
    "You can assign variables to the class now, if you like!"
   ]
  },
  {
   "cell_type": "code",
   "execution_count": 4,
   "metadata": {},
   "outputs": [],
   "source": [
    "first_baby.career = 'Astronaut'\n",
    "second_baby.career = 'Instagram Influencer'\n",
    "first_baby.house = '3 story chateau'\n",
    "second_baby.house = 'Hovel'"
   ]
  },
  {
   "cell_type": "markdown",
   "metadata": {},
   "source": [
    "And the baby will now have these attributes stored"
   ]
  },
  {
   "cell_type": "code",
   "execution_count": 11,
   "metadata": {},
   "outputs": [
    {
     "name": "stdout",
     "output_type": "stream",
     "text": [
      "Astronaut\n",
      "Instagram Influencer\n",
      "{'career': 'Astronaut', 'house': '3 story chateau'}\n"
     ]
    }
   ],
   "source": [
    "print(first_baby.career)\n",
    "print(second_baby.career)"
   ]
  },
  {
   "cell_type": "markdown",
   "metadata": {},
   "source": [
    "Even though we've given these babies their own variables, they will always be babies, because that's the class they were instantiated (born) from."
   ]
  },
  {
   "cell_type": "code",
   "execution_count": 26,
   "metadata": {},
   "outputs": [
    {
     "data": {
      "text/plain": [
       "__main__.Baby"
      ]
     },
     "execution_count": 26,
     "metadata": {},
     "output_type": "execute_result"
    }
   ],
   "source": [
    "type(first_baby)"
   ]
  },
  {
   "cell_type": "code",
   "execution_count": 27,
   "metadata": {},
   "outputs": [
    {
     "data": {
      "text/plain": [
       "__main__.Baby"
      ]
     },
     "execution_count": 27,
     "metadata": {},
     "output_type": "execute_result"
    }
   ],
   "source": [
    "type(second_baby)"
   ]
  },
  {
   "cell_type": "markdown",
   "metadata": {},
   "source": [
    "Now let's say we know that all babies are going to have some things in common when they're created. They can't talk, they can't walk. We can assign these variables upon creating the class for **all** babies!"
   ]
  },
  {
   "cell_type": "code",
   "execution_count": 28,
   "metadata": {},
   "outputs": [],
   "source": [
    "class Baby:\n",
    "    can_walk = False\n",
    "    can_talk = False"
   ]
  },
  {
   "cell_type": "markdown",
   "metadata": {},
   "source": [
    "Now, when we create a baby, they won't be able to walk or talk"
   ]
  },
  {
   "cell_type": "code",
   "execution_count": 14,
   "metadata": {},
   "outputs": [
    {
     "data": {
      "text/plain": [
       "True"
      ]
     },
     "execution_count": 14,
     "metadata": {},
     "output_type": "execute_result"
    }
   ],
   "source": [
    "third_baby = Baby()\n",
    "third_baby.can_walk = True\n",
    "third_baby.can_walk"
   ]
  },
  {
   "cell_type": "markdown",
   "metadata": {},
   "source": [
    "No walking and talking for the newborn baby. But it'll learn later. For now, there's one last thing to add to the initialization of classes before moving on: `__init__`\n",
    "\n",
    "Defining __init__ within a class will allow you to set certain variables **when you birth the class**. Think of what happens when we instantiate a Random Forest model, we can instantiate it as:\n",
    "\n",
    "```Python\n",
    "model = RandomForestClassifier()\n",
    "```\n",
    "\n",
    "And that births a `RandomForestClassifier` that is just like every other `RandomForestClassifier`, but let's say we did something like this (which I hope is also familiar):\n",
    "\n",
    "```Python\n",
    "model = RandomForestClassifier(max_depth=5)\n",
    "```\n",
    "\n",
    "Now we've made our `RandomForestClassifier` different, hooray! It's special and unique, but it's only because the person who wrote the class specified that we could choose that feature upon instantiating the object. So let's learn how to do that."
   ]
  },
  {
   "cell_type": "markdown",
   "metadata": {},
   "source": [
    "## 2. The `__init__` Dunder Method: Giving your class some sass\n",
    "A class method (for our purposes of relating to things we already know) is simply a **function within a class**. You define them mostly the same way as normal functions, but there are some specific things to keep in mind for classes. Prepare to be confused about what the hell `self` means, we'll get there, but for now, hang tight!"
   ]
  },
  {
   "cell_type": "markdown",
   "metadata": {},
   "source": [
    "First, I want to pull down the class from earlier. Only now, we're going to play god and add some things that we can change upon giving birth to this baby by defining the `__init__` dunder method.\n",
    "\n",
    "What happens in the `__init__` dunder method is you will add parameters that can be changed when the object is instantiated. You are saying \"When this specific Baby is initialized, set it up with the following traits.\" \n",
    "\n",
    "*Note: a **dunder method** is just a method that has double underscores on either side of it :) they are special, but not something to go into right now. For now, think of them like other class methods. Simply functions within a class.*"
   ]
  },
  {
   "cell_type": "code",
   "execution_count": 32,
   "metadata": {},
   "outputs": [],
   "source": [
    "class Baby:\n",
    "    '''This is a baby'''\n",
    "    # All babies still can't walk or talk\n",
    "    can_walk = False\n",
    "    can_talk = False\n",
    "\n",
    "    # Define __init__\n",
    "    def __init__(self, hair, voice, talent):\n",
    "        '''This is what you can change about the baby'''\n",
    "        self.hair = hair\n",
    "        self.voice = voice\n",
    "        self.talent = talent"
   ]
  },
  {
   "cell_type": "markdown",
   "metadata": {},
   "source": [
    "## THE FIRST PARAMETER IN `__init__` IS ALWAYS SELF\n",
    "Think of `self` as representing the current object. Any place you see `self`, you'd insert the current baby you have in front of you. This is why self is the first thing, it will automatically fill in the current baby and pass it through the function."
   ]
  },
  {
   "cell_type": "code",
   "execution_count": 31,
   "metadata": {},
   "outputs": [
    {
     "ename": "TypeError",
     "evalue": "__init__() missing 3 required positional arguments: 'hair', 'voice', and 'talent'",
     "output_type": "error",
     "traceback": [
      "\u001b[1;31m---------------------------------------------------------------------------\u001b[0m",
      "\u001b[1;31mTypeError\u001b[0m                                 Traceback (most recent call last)",
      "\u001b[1;32m<ipython-input-31-34791e3d4df7>\u001b[0m in \u001b[0;36m<module>\u001b[1;34m\u001b[0m\n\u001b[1;32m----> 1\u001b[1;33m \u001b[0mbroken_baby\u001b[0m \u001b[1;33m=\u001b[0m \u001b[0mBaby\u001b[0m\u001b[1;33m(\u001b[0m\u001b[1;33m)\u001b[0m\u001b[1;33m\u001b[0m\u001b[1;33m\u001b[0m\u001b[0m\n\u001b[0m",
      "\u001b[1;31mTypeError\u001b[0m: __init__() missing 3 required positional arguments: 'hair', 'voice', and 'talent'"
     ]
    }
   ],
   "source": [
    "broken_baby = Baby()"
   ]
  },
  {
   "cell_type": "markdown",
   "metadata": {},
   "source": [
    "Uh oh! This baby didn't have any features assigned, so it can't exist. From here, you can either:\n",
    "- Make sure you define every one of the features\n",
    "- Set defaults within the `__init__` method (remember, methods are functions within classes)"
   ]
  },
  {
   "cell_type": "code",
   "execution_count": 38,
   "metadata": {},
   "outputs": [],
   "source": [
    "# Strategy 1: Defining every one of the features\n",
    "acceptable_baby = Baby('brown and curly and smells good', voice='loud and obnoxious', talent='spinning plates')\n",
    "\n",
    "# Note that you can set parameters like you would in a normal function - either as positional (in the order the function wants to receive them) or by setting the parameter equal to something"
   ]
  },
  {
   "cell_type": "code",
   "execution_count": 39,
   "metadata": {},
   "outputs": [],
   "source": [
    "# Strategy 2: Setting defaults when building the __init__ method\n",
    "\n",
    "class Baby:\n",
    "    # All babies still can't walk or talk\n",
    "    can_walk = False\n",
    "    can_talk = False\n",
    "\n",
    "    # Define __init__\n",
    "    def __init__(self, hair='brown', voice='out of tune', talent='playing wonderwall at open mic nights'):\n",
    "        self.hair = hair\n",
    "        self.voice = voice\n",
    "        self.talent = talent"
   ]
  },
  {
   "cell_type": "markdown",
   "metadata": {},
   "source": [
    "With this method, we can now create babies who will have all the defaults, unless we set them otherwise"
   ]
  },
  {
   "cell_type": "code",
   "execution_count": 40,
   "metadata": {},
   "outputs": [],
   "source": [
    "default_baby = Baby()"
   ]
  },
  {
   "cell_type": "code",
   "execution_count": 41,
   "metadata": {},
   "outputs": [
    {
     "name": "stdout",
     "output_type": "stream",
     "text": [
      "brown\n",
      "out of tune\n",
      "playing wonderwall at open mic nights\n"
     ]
    }
   ],
   "source": [
    "print(default_baby.hair)\n",
    "print(default_baby.voice)\n",
    "print(default_baby.talent)"
   ]
  },
  {
   "cell_type": "markdown",
   "metadata": {},
   "source": [
    "But notice that the baby we made earlier still has the traits we set for it:"
   ]
  },
  {
   "cell_type": "code",
   "execution_count": 44,
   "metadata": {},
   "outputs": [
    {
     "name": "stdout",
     "output_type": "stream",
     "text": [
      "brown and curly and smells good\n",
      "loud and obnoxious\n",
      "spinning plates\n"
     ]
    }
   ],
   "source": [
    "print(acceptable_baby.hair)\n",
    "print(acceptable_baby.voice)\n",
    "print(acceptable_baby.talent)"
   ]
  },
  {
   "cell_type": "markdown",
   "metadata": {},
   "source": [
    "But we want these babies to be able to walk and talk, so let's teach them by adding some new class methods (remember, those are just functions within a class)."
   ]
  },
  {
   "cell_type": "markdown",
   "metadata": {},
   "source": [
    "## 3. Class Methods: Teaching the baby to do things\n",
    "\n",
    "We'll pull this class back down and redefine it, but this time we're going to add some functions within it (methods) that will teach our baby to walk and talk. We do this by defining functions like we normally would, except again, `self` is always the first parameter we put when defining the function."
   ]
  },
  {
   "cell_type": "markdown",
   "metadata": {},
   "source": [
    "We're going to teach the baby to walk and talk by simply reassigning the `can_walk` and `can_talk` variables for this particular baby."
   ]
  },
  {
   "cell_type": "code",
   "execution_count": 25,
   "metadata": {},
   "outputs": [],
   "source": [
    "class Baby:\n",
    "    # All babies still can't walk or talk\n",
    "    can_walk = False\n",
    "    can_talk = False\n",
    "\n",
    "    # Define __init__\n",
    "    def __init__(self, hair='brown', voice='out of tune', talent='playing wonderwall at open mic nights'):\n",
    "        self.hair = hair\n",
    "        self.voice = voice\n",
    "        self.talent = talent\n",
    "    \n",
    "    # Teach the baby to talk\n",
    "    def learn_to_talk(self):\n",
    "        self.can_talk = True\n",
    "\n",
    "    # Teach the baby to walk\n",
    "    def learn_to_walk(self):\n",
    "        self.can_walk = True"
   ]
  },
  {
   "cell_type": "code",
   "execution_count": 26,
   "metadata": {},
   "outputs": [],
   "source": [
    "# Giving birth to this smart smart baby\n",
    "smart_baby = Baby(talent='Big Wrinkly Brain, Telekinesis')"
   ]
  },
  {
   "cell_type": "markdown",
   "metadata": {},
   "source": [
    "To apply methods to a class object, you use `.method_name()` just like when you are working with models or appending things to lists!"
   ]
  },
  {
   "cell_type": "code",
   "execution_count": 24,
   "metadata": {},
   "outputs": [
    {
     "name": "stdout",
     "output_type": "stream",
     "text": [
      "False\n",
      "False\n",
      "True\n",
      "True\n"
     ]
    }
   ],
   "source": [
    "# Let's see if the baby can walk and talk when it's born\n",
    "print(smart_baby.can_talk)\n",
    "print(smart_baby.can_walk)\n",
    "\n",
    "# Teach the baby to talk\n",
    "smart_baby.learn_to_talk()\n",
    "\n",
    "# Teach the baby to walk\n",
    "smart_baby.learn_to_walk()\n",
    "\n",
    "# Let's see if it can walk and talk now\n",
    "print(smart_baby.can_talk)\n",
    "print(smart_baby.can_walk)"
   ]
  },
  {
   "cell_type": "markdown",
   "metadata": {},
   "source": [
    "But this doesn't mean that all babies can walk and talk"
   ]
  },
  {
   "cell_type": "code",
   "execution_count": 53,
   "metadata": {},
   "outputs": [
    {
     "name": "stdout",
     "output_type": "stream",
     "text": [
      "False\n",
      "False\n"
     ]
    }
   ],
   "source": [
    "regular_baby = Baby()\n",
    "print(regular_baby.can_talk)\n",
    "print(regular_baby.can_walk)"
   ]
  }
 ],
 "metadata": {
  "kernelspec": {
   "display_name": "Python 3",
   "language": "python",
   "name": "python3"
  },
  "language_info": {
   "codemirror_mode": {
    "name": "ipython",
    "version": 3
   },
   "file_extension": ".py",
   "mimetype": "text/x-python",
   "name": "python",
   "nbconvert_exporter": "python",
   "pygments_lexer": "ipython3",
   "version": "3.8.5"
  }
 },
 "nbformat": 4,
 "nbformat_minor": 4
}
